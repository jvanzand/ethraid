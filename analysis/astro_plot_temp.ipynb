{
 "cells": [
  {
   "cell_type": "code",
   "execution_count": 16,
   "metadata": {},
   "outputs": [
    {
     "name": "stdout",
     "output_type": "stream",
     "text": [
      "0.12767382507786398 0.034199052901953214\n",
      "[151.26492309570312, 150.19378662109375, 150.31161499023438] [-64.6023941040039, -63.98785400390625, -63.938690185546875]\n",
      "[0.7301717400550842, 0.021173059940338135, 0.026339441537857056] [0.9260193705558777, 0.0231549683958292, 0.028132565319538116]\n"
     ]
    }
   ],
   "source": [
    "import numpy as np\n",
    "import pandas as pd\n",
    "import astropy.constants as c\n",
    "from astropy.time import Time\n",
    "import radvel as rv\n",
    "\n",
    "# For working with Brandt catalog\n",
    "import astropy as ap\n",
    "from astropy.table import Table\n",
    "\n",
    "\n",
    "\n",
    "\n",
    "########### RV Constants #################\n",
    "\n",
    "m_star_hd191939 = 0.807\n",
    "m_star_hip97166 = 0.91\n",
    "m_star = m_star_hd191939\n",
    "\n",
    "# Simplifying the orbit\n",
    "tp = 0\n",
    "e = 0\n",
    "om = 0\n",
    "\n",
    "# Trend and curvature values calculated with radvel\n",
    "hd191939_gamma = [0.114, 0.006, -6e-5, 1.9e-5]\n",
    "hip97166_gamma = [0.043, 0.033, -2e-4, 1.5e-4]\n",
    "\n",
    "gamma_dot, gamma_dot_err,  gamma_dotdot, gamma_dotdot_err = hd191939_gamma\n",
    "\n",
    "timeseries = pd.read_csv('../data/191939_rv.csv', skiprows=14)\n",
    "rv_baseline = max(Time(list(timeseries.time.values), format='iso').jd) - min(Time(list(timeseries.time.values), format='iso').jd)\n",
    "max_rv = max(timeseries.mnvel)\n",
    "\n",
    "# The priors for minimum period and planet mass. min_per is 4xbaseline because we see ~no curvature yet.\n",
    "min_per = 4*rv_baseline\n",
    "# Does it make sense to use e = 0 here? Couldn't we set e really high and get a lower mass planet with high semi-amplitude?\n",
    "min_m = rv.utils.Msini(max_rv, min_per, m_star, e, Msini_units='jupiter')\n",
    "min_a = rv.utils.semi_major_axis(min_per, (m_star + min_m*(c.M_jup/c.M_sun).value))\n",
    "# print('Min values: ', min_a, min_m)\n",
    "\n",
    "\n",
    "########### Astrometry Constants #################\n",
    "# Choosing the star to analyze\n",
    "id_hd191939 = 2248126315275354496\n",
    "id_hip97166 = 2288221003213039488\n",
    "\n",
    "star_params_hd191939 = [0.807, 58.3]\n",
    "star_params_hip97166 = [0.91, 68.0]\n",
    "\n",
    "star_id = id_hd191939\n",
    "star_params = star_params_hd191939\n",
    "\n",
    "# System params: Stellar mass and distance in M_Sun, pc => cm\n",
    "m_star = star_params[0]\n",
    "d_star = star_params[1]*(c.pc.cgs.value)\n",
    "\n",
    "# https://www.cosmos.esa.int/web/hipparcos/catalogue-summary lists the dates as 1989.85 and 1993.21\n",
    "hip_times = Time(['1989-01-01', '1993-01-01'], format='isot').jd + np.array((0.85, 0.21))*365\n",
    "hip_baseline = hip_times[1]-hip_times[0]\n",
    "hip_mid = hip_times.mean()\n",
    "\n",
    "# Gaia hasn't ended yet, but DR2 is listed as spanning 25 Jul. 2014 to 23 May 2016\n",
    "# https://www.cosmos.esa.int/web/gaia/dr2\n",
    "gaia_times = Time(['2014-07-25', '2016-05-23'], format='isot').jd\n",
    "gaia_baseline = gaia_times[1]-gaia_times[0]\n",
    "gaia_mid = gaia_times.mean()\n",
    "\n",
    "baseline = gaia_mid - hip_mid\n",
    "\n",
    "# The proper motions and errors (mas/yr) in the order [Hipparcos, Gaia, HG]\n",
    "# hdul = ap.io.fits.open('../data/HGCA_vDR2.fits')\n",
    "\n",
    "hdul = ap.io.fits.open('../data/HGCA_vEDR3.fits')\n",
    "data_df = Table(hdul[1].data).to_pandas()\n",
    "\n",
    "\n",
    "hdul.close()\n",
    "\n",
    "star_line = data_df.query('gaia_source_id == {}'.format(star_id))\n",
    "\n",
    "ra_array = star_line[['pmra_hip', 'pmra_gaia', 'pmra_hg']].stack().to_list()\n",
    "ra_err_array = star_line[['pmra_hip_error', 'pmra_gaia_error', 'pmra_hg_error']].stack().to_list()\n",
    "dec_array = star_line[['pmdec_hip', 'pmdec_gaia', 'pmdec_hg']].stack().to_list()\n",
    "dec_err_array = star_line[['pmdec_hip_error', 'pmdec_gaia_error', 'pmdec_hg_error']].stack().to_list()\n",
    "\n",
    "hip_pm = np.sqrt(ra_array[0]**2 + dec_array[0]**2)\n",
    "hip_pm_err = np.sqrt(  (ra_array[0]/hip_pm)**2*ra_err_array[0]**2  +   (dec_array[0]/hip_pm)**2*dec_err_array[0]**2 )\n",
    "\n",
    "##########################################################################################################################\n",
    "gaia_pm = np.sqrt(ra_array[1]**2 + dec_array[1]**2)\n",
    "gaia_pm_err = np.sqrt(  (ra_array[1]/gaia_pm)**2*ra_err_array[1]**2  +   (dec_array[1]/gaia_pm)**2*dec_err_array[1]**2 )\n",
    "\n",
    "hg_pm = np.sqrt(ra_array[2]**2 + dec_array[2]**2)\n",
    "hg_pm_err = np.sqrt(  (ra_array[2]/hg_pm)**2*ra_err_array[0]**2  +   (dec_array[2]/hg_pm)**2*dec_err_array[0]**2 )\n",
    "##########################################################################################################################\n",
    "\n",
    "\n",
    "pm_anom_data = np.sqrt((ra_array[2] - ra_array[1])**2 + (dec_array[2] - dec_array[1])**2)\n",
    "pm_anom_data_err = np.sqrt((ra_array[2] - ra_array[1])**2 * (ra_err_array[2]**2 + ra_err_array[1]**2) + (dec_array[2] - dec_array[1])**2 * (dec_err_array[2]**2 + dec_err_array[1]**2)) / (pm_anom_data)\n",
    "\n",
    "print(pm_anom_data, pm_anom_data_err)\n",
    "\n",
    "### Plotting proper motions ###\n",
    "print(ra_array, dec_array)\n",
    "print(ra_err_array, dec_err_array)"
   ]
  },
  {
   "cell_type": "code",
   "execution_count": 20,
   "metadata": {},
   "outputs": [
    {
     "data": {
      "image/png": "[encoded data removed]",
      "text/plain": [
       "<Figure size 1008x720 with 1 Axes>"
      ]
     },
     "metadata": {
      "needs_background": "light"
     },
     "output_type": "display_data"
    }
   ],
   "source": [
    "import matplotlib.pyplot as plt\n",
    "fontsize=20\n",
    "\n",
    "fig, ax = plt.subplots(figsize=(14,10))\n",
    "plt.errorbar(ra_array[0], dec_array[0], xerr = ra_err_array[0], yerr = dec_err_array[0], label='Hip_3')\n",
    "plt.errorbar(ra_array_old[0], dec_array_old[0], xerr = ra_err_array_old[0], yerr = dec_err_array_old[0], label='Hip_2')\n",
    "\n",
    "plt.errorbar(ra_array[1], dec_array[1], xerr = ra_err_array[1], yerr = dec_err_array[1], label='Gaia_3')\n",
    "plt.errorbar(ra_array_old[1], dec_array_old[1], xerr = ra_err_array_old[1], yerr = dec_err_array_old[1], label='Gaia_2')\n",
    "\n",
    "plt.errorbar(ra_array[2], dec_array[2], xerr = ra_err_array[2], yerr = dec_err_array[2], label='HG_3')\n",
    "plt.errorbar(ra_array_old[2], dec_array_old[2], xerr = ra_err_array_old[2], yerr = dec_err_array_old[2], label='HG_2')\n",
    "\n",
    "plt.xlabel(r'$PM_{RA}$ (mas/yr)', fontsize=fontsize)\n",
    "plt.ylabel(r'$PM_{Dec}$ (mas/yr)', fontsize=fontsize)\n",
    "\n",
    "plt.legend()\n",
    "plt.show()"
   ]
  },
  {
   "cell_type": "code",
   "execution_count": 15,
   "metadata": {},
   "outputs": [],
   "source": [
    "ra_array_old = ra_array\n",
    "ra_err_array_old = ra_err_array\n",
    "\n",
    "dec_array_old = dec_array\n",
    "dec_err_array_old = dec_err_array"
   ]
  },
  {
   "cell_type": "code",
   "execution_count": null,
   "metadata": {},
   "outputs": [],
   "source": []
  }
 ],
 "metadata": {
  "kernelspec": {
   "display_name": "Python 3",
   "language": "python",
   "name": "python3"
  },
  "language_info": {
   "codemirror_mode": {
    "name": "ipython",
    "version": 3
   },
   "file_extension": ".py",
   "mimetype": "text/x-python",
   "name": "python",
   "nbconvert_exporter": "python",
   "pygments_lexer": "ipython3",
   "version": "3.7.4"
  }
 },
 "nbformat": 4,
 "nbformat_minor": 4
}
