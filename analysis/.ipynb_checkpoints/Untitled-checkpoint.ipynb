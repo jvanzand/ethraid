{
 "cells": [
  {
   "cell_type": "code",
   "execution_count": 1,
   "metadata": {},
   "outputs": [],
   "source": [
    "import numpy as np\n",
    "import pandas as pd"
   ]
  },
  {
   "cell_type": "code",
   "execution_count": 4,
   "metadata": {},
   "outputs": [],
   "source": [
    "star_list = ['12572',\n",
    "'135694',\n",
    "'146757',\n",
    "'154840',\n",
    "'156141',\n",
    "'191939',\n",
    "'207897',\n",
    "'219134',\n",
    "'237566',\n",
    "'63935',\n",
    "'75732',\n",
    "'93963',\n",
    "'GJ9522A',\n",
    "'HIP97166',\n",
    "'T001173',\n",
    "'T001174',\n",
    "'T001180',\n",
    "'T001194',\n",
    "'T001244',\n",
    "'T001246',\n",
    "'T001248',\n",
    "'T001249',\n",
    "'T001269',\n",
    "'T001272',\n",
    "'T001279',\n",
    "'T001288',\n",
    "'T001410',\n",
    "'T001422',\n",
    "'T001438',\n",
    "'T001443',\n",
    "'T001444',\n",
    "'T001451',\n",
    "'T001472',\n",
    "'T001669',\n",
    "'T001691',\n",
    "'T001694',\n",
    "'T001710',\n",
    "'T001723',\n",
    "'T001753',\n",
    "'T001758',\n",
    "'T001759',\n",
    "'T001775',\n",
    "'T001794',\n",
    "'T001824',\n",
    "'T002088',\n",
    "'TIC142381532',\n",
    "'WASP156']"
   ]
  },
  {
   "cell_type": "code",
   "execution_count": 9,
   "metadata": {},
   "outputs": [],
   "source": [
    "star_df = pd.DataFrame(star_list, columns={'star_id'})"
   ]
  },
  {
   "cell_type": "code",
   "execution_count": 10,
   "metadata": {},
   "outputs": [],
   "source": [
    "star_df.to_csv('samp45.csv')"
   ]
  },
  {
   "cell_type": "code",
   "execution_count": null,
   "metadata": {},
   "outputs": [],
   "source": []
  }
 ],
 "metadata": {
  "kernelspec": {
   "display_name": "Python 3",
   "language": "python",
   "name": "python3"
  },
  "language_info": {
   "codemirror_mode": {
    "name": "ipython",
    "version": 3
   },
   "file_extension": ".py",
   "mimetype": "text/x-python",
   "name": "python",
   "nbconvert_exporter": "python",
   "pygments_lexer": "ipython3",
   "version": "3.7.4"
  }
 },
 "nbformat": 4,
 "nbformat_minor": 4
}
